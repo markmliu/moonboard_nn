{
 "cells": [
  {
   "cell_type": "code",
   "execution_count": 1,
   "metadata": {},
   "outputs": [],
   "source": [
    "import os\n",
    "import pickle\n",
    "import numpy as np\n",
    "import tensorflow as tf\n",
    "import math \n",
    "import re\n",
    "import operator\n",
    "import time\n",
    "import json\n",
    "import utils\n",
    "\n",
    "from tensorflow.keras import datasets, layers, models\n",
    "import matplotlib.pyplot as plt\n",
    "\n",
    "from keras.models import load_model\n",
    "from keras_preprocessing.sequence import pad_sequences"
   ]
  },
  {
   "cell_type": "code",
   "execution_count": 2,
   "metadata": {},
   "outputs": [],
   "source": [
    "# load the trained model\n",
    "MODEL_PATH = 'moonboard_names_model_128'\n",
    "NAME_MODEL = models.load_model(MODEL_PATH+'/model.h5')"
   ]
  },
  {
   "cell_type": "code",
   "execution_count": 3,
   "metadata": {},
   "outputs": [],
   "source": [
    "\n",
    "params = json.load(open(MODEL_PATH + '/params.json'))\n",
    "SEQUENCE_LENGTH = 128\n",
    "char_to_int = params['char_to_int']\n",
    "int_to_char = params['int_to_char']"
   ]
  },
  {
   "cell_type": "code",
   "execution_count": 4,
   "metadata": {},
   "outputs": [],
   "source": [
    "END_TOKEN = char_to_int['|']"
   ]
  },
  {
   "cell_type": "code",
   "execution_count": 5,
   "metadata": {},
   "outputs": [
    {
     "name": "stdout",
     "output_type": "stream",
     "text": [
      "/Users/markliu/moonboard/names\n"
     ]
    }
   ],
   "source": [
    "# let's pick some random problems to predict\n",
    "cwd = os.getcwd()\n",
    "print(cwd)\n",
    "parent_wd = cwd.replace('/names', '')\n",
    "raw_data_path = os.path.join(parent_wd, 'raw_data/moonGen_scrape_2016')"
   ]
  },
  {
   "cell_type": "code",
   "execution_count": 6,
   "metadata": {},
   "outputs": [],
   "source": [
    "with open(raw_data_path, 'rb') as f:\n",
    "    raw_data = pickle.load(f)"
   ]
  },
  {
   "cell_type": "code",
   "execution_count": 7,
   "metadata": {},
   "outputs": [
    {
     "name": "stdout",
     "output_type": "stream",
     "text": [
      "{'problem_name': 'GULAG', 'info': ['micklevin', '1 climber has repeated this problem', '7A', 'Feet follow hands', ''], 'url': 'https://moonboard.com/Problems/View/367885/gulag', 'num_empty': 1, 'num_stars': 2, 'moves': [{'Id': 2119166, 'Description': 'A5', 'IsStart': True, 'IsEnd': False}, {'Id': 2119167, 'Description': 'B8', 'IsStart': False, 'IsEnd': False}, {'Id': 2119168, 'Description': 'D12', 'IsStart': False, 'IsEnd': False}, {'Id': 2119169, 'Description': 'F14', 'IsStart': False, 'IsEnd': False}, {'Id': 2119170, 'Description': 'I18', 'IsStart': False, 'IsEnd': True}], 'grade': '7A', 'UserGrade': None, 'isBenchmark': False, 'repeats': 1, 'ProblemType': None, 'IsMaster': False, 'setter': {'Id': '05f91964-f58c-4a49-af50-abec02f71300', 'Nickname': 'micklevin', 'Firstname': 'Mick', 'Lastname': 'Levin', 'City': 'Halifax', 'Country': 'Canada', 'ProfileImageUrl': '/Content/Account/Users/Profile/05f91964-f58c-4a49-af50-abec02f71300.jpg?637231996827206508', 'CanShareData': True}}\n"
     ]
    }
   ],
   "source": [
    "print(list(raw_data.items())[3][1])"
   ]
  },
  {
   "cell_type": "code",
   "execution_count": 15,
   "metadata": {},
   "outputs": [],
   "source": [
    "def convert_problem_to_input(holds):\n",
    "    # encode each problem as csv list of holds, followed by space, then name of the problem\n",
    "    inp = []\n",
    "    hold_string = ','.join([hold['Description'] for hold in holds])\n",
    "    hold_string += ' '\n",
    "    return hold_string"
   ]
  },
  {
   "cell_type": "code",
   "execution_count": 16,
   "metadata": {},
   "outputs": [
    {
     "data": {
      "text/plain": [
       "'A5,B8,D12,F14,I18 '"
      ]
     },
     "execution_count": 16,
     "metadata": {},
     "output_type": "execute_result"
    }
   ],
   "source": [
    "problem = list(raw_data.items())[3][1]\n",
    "\n",
    "convert_problem_to_input(problem['moves'])"
   ]
  },
  {
   "cell_type": "code",
   "execution_count": 18,
   "metadata": {},
   "outputs": [
    {
     "name": "stdout",
     "output_type": "stream",
     "text": [
      "5\n",
      "['F5,G2,H10,B11,E15,D18,E8 ', 'A5,D6,E9,A9,C13,D15,A18 ', 'G4,H8,G10,K12,G15,K18 ', 'A5,B8,D12,F14,I18 ', 'F5,H8,H10,H13,E15,G18,I4 ']\n"
     ]
    }
   ],
   "source": [
    "# grab 5 names or so\n",
    "\n",
    "texts = [convert_problem_to_input(x[1]['moves']) for x in list(raw_data.items())[0:5]]\n",
    "print(len(texts))\n",
    "print(texts)"
   ]
  },
  {
   "cell_type": "code",
   "execution_count": 11,
   "metadata": {},
   "outputs": [],
   "source": [
    "def sample_from_prob_vec(pr):\n",
    "    prob_thresh = np.max(pr,1) * 0.1\n",
    "    pr[pr < prob_thresh]=0\n",
    "    pr = (pr/pr.sum(axis=1,keepdims=1))[0]\n",
    "    idxs = np.arange(len(pr))\n",
    "    return np.random.choice(idxs, 1, p=pr)[0]\n",
    "\n"
   ]
  },
  {
   "cell_type": "code",
   "execution_count": 24,
   "metadata": {},
   "outputs": [],
   "source": [
    "def name_text(text):\n",
    "    texts = [text]\n",
    "    #single \n",
    "    MAX_LENGTH = 128\n",
    "    # for each text, continue predicting until we reach max length or end token\n",
    "    final_texts = texts\n",
    "    while True:\n",
    "    \n",
    "        sequences = utils.texts_to_sequences(final_texts, char_to_int)\n",
    "        data = pad_sequences(sequences, maxlen=SEQUENCE_LENGTH)\n",
    "        predictions_list = NAME_MODEL.predict(data)\n",
    "        # print(predictions_list)\n",
    "        # sample\n",
    "        \n",
    "        \n",
    "        \n",
    "        ch = sample_from_prob_vec(predictions_list)\n",
    "        if len(sequences[0]) > MAX_LENGTH or ch == END_TOKEN:\n",
    "            break\n",
    "        #print(int_to_char[ch])\n",
    "        final_texts[0]+=int_to_char[ch]\n",
    "        #print(final_texts)\n",
    "    return final_texts[0][len(text):]"
   ]
  },
  {
   "cell_type": "code",
   "execution_count": 25,
   "metadata": {},
   "outputs": [
    {
     "name": "stdout",
     "output_type": "stream",
     "text": [
      "1/1 [==============================] - 0s 16ms/step\n",
      "1/1 [==============================] - 0s 15ms/step\n",
      "1/1 [==============================] - 0s 14ms/step\n",
      "1/1 [==============================] - 0s 15ms/step\n",
      "1/1 [==============================] - 0s 14ms/step\n",
      "1/1 [==============================] - 0s 15ms/step\n",
      "1/1 [==============================] - 0s 15ms/step\n",
      "1/1 [==============================] - 0s 15ms/step\n",
      "1/1 [==============================] - 0s 15ms/step\n",
      "1/1 [==============================] - 0s 15ms/step\n",
      "1/1 [==============================] - 0s 15ms/step\n",
      "1/1 [==============================] - 0s 15ms/step\n",
      "1/1 [==============================] - 0s 15ms/step\n",
      "1/1 [==============================] - 0s 15ms/step\n",
      "1/1 [==============================] - 0s 15ms/step\n",
      "1/1 [==============================] - 0s 15ms/step\n",
      "1/1 [==============================] - 0s 15ms/step\n",
      "1/1 [==============================] - 0s 15ms/step\n",
      "1/1 [==============================] - 0s 15ms/step\n",
      "1/1 [==============================] - 0s 15ms/step\n",
      "1/1 [==============================] - 0s 15ms/step\n",
      "1/1 [==============================] - 0s 15ms/step\n",
      "1/1 [==============================] - 0s 15ms/step\n",
      "1/1 [==============================] - 0s 15ms/step\n",
      "1/1 [==============================] - 0s 15ms/step\n",
      "1/1 [==============================] - 0s 15ms/step\n",
      "1/1 [==============================] - 0s 17ms/step\n",
      "1/1 [==============================] - 0s 15ms/step\n",
      "1/1 [==============================] - 0s 15ms/step\n",
      "1/1 [==============================] - 0s 15ms/step\n",
      "1/1 [==============================] - 0s 15ms/step\n",
      "1/1 [==============================] - 0s 15ms/step\n",
      "1/1 [==============================] - 0s 15ms/step\n",
      "1/1 [==============================] - 0s 15ms/step\n",
      "1/1 [==============================] - 0s 15ms/step\n",
      "1/1 [==============================] - 0s 15ms/step\n",
      "1/1 [==============================] - 0s 15ms/step\n",
      "1/1 [==============================] - 0s 15ms/step\n",
      "1/1 [==============================] - 0s 15ms/step\n",
      "1/1 [==============================] - 0s 15ms/step\n",
      "1/1 [==============================] - 0s 16ms/step\n",
      "1/1 [==============================] - 0s 15ms/step\n",
      "1/1 [==============================] - 0s 15ms/step\n",
      "1/1 [==============================] - 0s 15ms/step\n",
      "1/1 [==============================] - 0s 15ms/step\n",
      "1/1 [==============================] - 0s 15ms/step\n",
      "1/1 [==============================] - 0s 15ms/step\n",
      "1/1 [==============================] - 0s 15ms/step\n",
      "1/1 [==============================] - 0s 15ms/step\n",
      "1/1 [==============================] - 0s 15ms/step\n",
      "1/1 [==============================] - 0s 15ms/step\n",
      "1/1 [==============================] - 0s 15ms/step\n",
      "['GOSTER PLASTANT', 'STRATO 1A', 'FAR PISS', 'FLOW', 'JUST DO WAT']\n"
     ]
    }
   ],
   "source": [
    "final_texts = [name_text(text) for text in texts]\n",
    "print(final_texts)"
   ]
  },
  {
   "cell_type": "code",
   "execution_count": null,
   "metadata": {},
   "outputs": [],
   "source": []
  }
 ],
 "metadata": {
  "kernelspec": {
   "display_name": "Python 3",
   "language": "python",
   "name": "python3"
  },
  "language_info": {
   "codemirror_mode": {
    "name": "ipython",
    "version": 3
   },
   "file_extension": ".py",
   "mimetype": "text/x-python",
   "name": "python",
   "nbconvert_exporter": "python",
   "pygments_lexer": "ipython3",
   "version": "3.7.4"
  }
 },
 "nbformat": 4,
 "nbformat_minor": 2
}
