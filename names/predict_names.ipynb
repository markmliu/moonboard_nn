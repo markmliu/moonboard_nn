{
 "cells": [
  {
   "cell_type": "code",
   "execution_count": 1,
   "metadata": {},
   "outputs": [],
   "source": [
    "import os\n",
    "import pickle\n",
    "import numpy as np\n",
    "import tensorflow as tf\n",
    "import math \n",
    "import re\n",
    "import operator\n",
    "import time\n",
    "import json\n",
    "import utils\n",
    "\n",
    "from tensorflow.keras import datasets, layers, models\n",
    "import matplotlib.pyplot as plt\n",
    "\n",
    "from keras.models import load_model\n",
    "from keras_preprocessing.sequence import pad_sequences"
   ]
  },
  {
   "cell_type": "code",
   "execution_count": 2,
   "metadata": {},
   "outputs": [],
   "source": [
    "# load the trained model\n",
    "MODEL_PATH = 'moonboard_names_model_128'\n",
    "NAME_MODEL = models.load_model(MODEL_PATH+'/model.h5')"
   ]
  },
  {
   "cell_type": "code",
   "execution_count": 3,
   "metadata": {},
   "outputs": [],
   "source": [
    "\n",
    "params = json.load(open(MODEL_PATH + '/params.json'))\n",
    "SEQUENCE_LENGTH = 128\n",
    "char_to_int = params['char_to_int']\n",
    "int_to_char = params['int_to_char']\n",
    "\n",
    "#labels = {v: k for k, v in params['labels_index'].items()}"
   ]
  },
  {
   "cell_type": "code",
   "execution_count": 4,
   "metadata": {},
   "outputs": [],
   "source": [
    "END_TOKEN = char_to_int['|']"
   ]
  },
  {
   "cell_type": "code",
   "execution_count": 5,
   "metadata": {},
   "outputs": [],
   "source": [
    "problem_start = 'A5,B8,D12,F14,I18'\n",
    "texts = [problem_start]"
   ]
  },
  {
   "cell_type": "code",
   "execution_count": 6,
   "metadata": {},
   "outputs": [
    {
     "name": "stdout",
     "output_type": "stream",
     "text": [
      "/Users/markliu/moonboard/names\n"
     ]
    }
   ],
   "source": [
    "# let's pick some random problems to predict\n",
    "cwd = os.getcwd()\n",
    "print(cwd)\n",
    "parent_wd = cwd.replace('/names', '')\n",
    "raw_data_path = os.path.join(parent_wd, 'raw_data/moonGen_scrape_2016')"
   ]
  },
  {
   "cell_type": "code",
   "execution_count": 7,
   "metadata": {},
   "outputs": [],
   "source": [
    "with open(raw_data_path, 'rb') as f:\n",
    "    raw_data = pickle.load(f)"
   ]
  },
  {
   "cell_type": "code",
   "execution_count": 8,
   "metadata": {},
   "outputs": [
    {
     "name": "stdout",
     "output_type": "stream",
     "text": [
      "{'problem_name': 'GULAG', 'info': ['micklevin', '1 climber has repeated this problem', '7A', 'Feet follow hands', ''], 'url': 'https://moonboard.com/Problems/View/367885/gulag', 'num_empty': 1, 'num_stars': 2, 'moves': [{'Id': 2119166, 'Description': 'A5', 'IsStart': True, 'IsEnd': False}, {'Id': 2119167, 'Description': 'B8', 'IsStart': False, 'IsEnd': False}, {'Id': 2119168, 'Description': 'D12', 'IsStart': False, 'IsEnd': False}, {'Id': 2119169, 'Description': 'F14', 'IsStart': False, 'IsEnd': False}, {'Id': 2119170, 'Description': 'I18', 'IsStart': False, 'IsEnd': True}], 'grade': '7A', 'UserGrade': None, 'isBenchmark': False, 'repeats': 1, 'ProblemType': None, 'IsMaster': False, 'setter': {'Id': '05f91964-f58c-4a49-af50-abec02f71300', 'Nickname': 'micklevin', 'Firstname': 'Mick', 'Lastname': 'Levin', 'City': 'Halifax', 'Country': 'Canada', 'ProfileImageUrl': '/Content/Account/Users/Profile/05f91964-f58c-4a49-af50-abec02f71300.jpg?637231996827206508', 'CanShareData': True}}\n"
     ]
    }
   ],
   "source": [
    "print(list(raw_data.items())[3][1])"
   ]
  },
  {
   "cell_type": "code",
   "execution_count": 9,
   "metadata": {},
   "outputs": [],
   "source": [
    "def convert_problem_to_input(holds):\n",
    "    # encode each problem as csv list of holds, followed by space, then name of the problem\n",
    "    inp = []\n",
    "    hold_string = ','.join([hold['Description'] for hold in holds])\n",
    "\n",
    "    return hold_string"
   ]
  },
  {
   "cell_type": "code",
   "execution_count": 10,
   "metadata": {},
   "outputs": [
    {
     "data": {
      "text/plain": [
       "'A5,B8,D12,F14,I18'"
      ]
     },
     "execution_count": 10,
     "metadata": {},
     "output_type": "execute_result"
    }
   ],
   "source": [
    "problem = list(raw_data.items())[3][1]\n",
    "\n",
    "convert_problem_to_input(problem['moves'])"
   ]
  },
  {
   "cell_type": "code",
   "execution_count": 101,
   "metadata": {},
   "outputs": [
    {
     "name": "stdout",
     "output_type": "stream",
     "text": [
      "5\n"
     ]
    }
   ],
   "source": [
    "texts = [convert_problem_to_input(x[1]['moves']) for x in list(raw_data.items())[0:5]]\n",
    "print(len(texts))"
   ]
  },
  {
   "cell_type": "code",
   "execution_count": 103,
   "metadata": {},
   "outputs": [],
   "source": [
    "def sample_from_prob_vec(pr):\n",
    "    prob_thresh = np.max(pr,1) * 0.1\n",
    "    pr[pr < prob_thresh]=0\n",
    "    pr = (pr/pr.sum(axis=1,keepdims=1))[0]\n",
    "    idxs = np.arange(len(pr))\n",
    "    return np.random.choice(idxs, 1, p=pr)[0]\n",
    "\n",
    "def name_texts(texts):\n",
    "    MAX_LENGTH = 128\n",
    "    # for each text, continue predicting until we reach max length or end token\n",
    "    final_texts = np.array(texts)\n",
    "    #while True:\n",
    "    contin = [True] * len(texts)\n",
    "    while any(contin):\n",
    "        print(len(contin))\n",
    "        sequences = utils.texts_to_sequences(final_texts[contin], char_to_int)\n",
    "        print(len(sequences))\n",
    "        data = pad_sequences(sequences, maxlen=SEQUENCE_LENGTH)\n",
    "        predictions_list = NAME_MODEL.predict(data)\n",
    "        #print(predictions_list)\n",
    "        #chs = [int_to_char[x] for x in np.argmax(predictions_list,1)]\n",
    "        chs = [int_to_char[sample_from_prob_vec(pr)] for pr in predictions_list]\n",
    "        print(chs)\n",
    "        final_texts = np.core.defchararray.add(final_texts[contin],chs)\n",
    "        contin = [text[-1] != '|' and len(text) < MAX_LENGTH for text in final_texts]\n",
    "        print(contin)\n",
    "    return final_texts\n"
   ]
  },
  {
   "cell_type": "code",
   "execution_count": 104,
   "metadata": {},
   "outputs": [
    {
     "name": "stdout",
     "output_type": "stream",
     "text": [
      "5\n",
      "5\n",
      "1/1 [==============================] - 0s 16ms/step\n"
     ]
    },
    {
     "ename": "AxisError",
     "evalue": "axis 1 is out of bounds for array of dimension 1",
     "output_type": "error",
     "traceback": [
      "\u001b[0;31m---------------------------------------------------------------------------\u001b[0m",
      "\u001b[0;31mAxisError\u001b[0m                                 Traceback (most recent call last)",
      "\u001b[0;32m<ipython-input-104-e90e81c231ca>\u001b[0m in \u001b[0;36m<module>\u001b[0;34m\u001b[0m\n\u001b[0;32m----> 1\u001b[0;31m \u001b[0mfinal_texts\u001b[0m \u001b[0;34m=\u001b[0m \u001b[0mname_texts\u001b[0m\u001b[0;34m(\u001b[0m\u001b[0mtexts\u001b[0m\u001b[0;34m)\u001b[0m\u001b[0;34m\u001b[0m\u001b[0;34m\u001b[0m\u001b[0m\n\u001b[0m",
      "\u001b[0;32m<ipython-input-103-f57d9f5052f4>\u001b[0m in \u001b[0;36mname_texts\u001b[0;34m(texts)\u001b[0m\n\u001b[1;32m     20\u001b[0m         \u001b[0;31m#print(predictions_list)\u001b[0m\u001b[0;34m\u001b[0m\u001b[0;34m\u001b[0m\u001b[0;34m\u001b[0m\u001b[0m\n\u001b[1;32m     21\u001b[0m         \u001b[0;31m#chs = [int_to_char[x] for x in np.argmax(predictions_list,1)]\u001b[0m\u001b[0;34m\u001b[0m\u001b[0;34m\u001b[0m\u001b[0;34m\u001b[0m\u001b[0m\n\u001b[0;32m---> 22\u001b[0;31m         \u001b[0mchs\u001b[0m \u001b[0;34m=\u001b[0m \u001b[0;34m[\u001b[0m\u001b[0mint_to_char\u001b[0m\u001b[0;34m[\u001b[0m\u001b[0msample_from_prob_vec\u001b[0m\u001b[0;34m(\u001b[0m\u001b[0mpr\u001b[0m\u001b[0;34m)\u001b[0m\u001b[0;34m]\u001b[0m \u001b[0;32mfor\u001b[0m \u001b[0mpr\u001b[0m \u001b[0;32min\u001b[0m \u001b[0mpredictions_list\u001b[0m\u001b[0;34m]\u001b[0m\u001b[0;34m\u001b[0m\u001b[0;34m\u001b[0m\u001b[0m\n\u001b[0m\u001b[1;32m     23\u001b[0m         \u001b[0mprint\u001b[0m\u001b[0;34m(\u001b[0m\u001b[0mchs\u001b[0m\u001b[0;34m)\u001b[0m\u001b[0;34m\u001b[0m\u001b[0;34m\u001b[0m\u001b[0m\n\u001b[1;32m     24\u001b[0m         \u001b[0mfinal_texts\u001b[0m \u001b[0;34m=\u001b[0m \u001b[0mnp\u001b[0m\u001b[0;34m.\u001b[0m\u001b[0mcore\u001b[0m\u001b[0;34m.\u001b[0m\u001b[0mdefchararray\u001b[0m\u001b[0;34m.\u001b[0m\u001b[0madd\u001b[0m\u001b[0;34m(\u001b[0m\u001b[0mfinal_texts\u001b[0m\u001b[0;34m[\u001b[0m\u001b[0mcontin\u001b[0m\u001b[0;34m]\u001b[0m\u001b[0;34m,\u001b[0m\u001b[0mchs\u001b[0m\u001b[0;34m)\u001b[0m\u001b[0;34m\u001b[0m\u001b[0;34m\u001b[0m\u001b[0m\n",
      "\u001b[0;32m<ipython-input-103-f57d9f5052f4>\u001b[0m in \u001b[0;36m<listcomp>\u001b[0;34m(.0)\u001b[0m\n\u001b[1;32m     20\u001b[0m         \u001b[0;31m#print(predictions_list)\u001b[0m\u001b[0;34m\u001b[0m\u001b[0;34m\u001b[0m\u001b[0;34m\u001b[0m\u001b[0m\n\u001b[1;32m     21\u001b[0m         \u001b[0;31m#chs = [int_to_char[x] for x in np.argmax(predictions_list,1)]\u001b[0m\u001b[0;34m\u001b[0m\u001b[0;34m\u001b[0m\u001b[0;34m\u001b[0m\u001b[0m\n\u001b[0;32m---> 22\u001b[0;31m         \u001b[0mchs\u001b[0m \u001b[0;34m=\u001b[0m \u001b[0;34m[\u001b[0m\u001b[0mint_to_char\u001b[0m\u001b[0;34m[\u001b[0m\u001b[0msample_from_prob_vec\u001b[0m\u001b[0;34m(\u001b[0m\u001b[0mpr\u001b[0m\u001b[0;34m)\u001b[0m\u001b[0;34m]\u001b[0m \u001b[0;32mfor\u001b[0m \u001b[0mpr\u001b[0m \u001b[0;32min\u001b[0m \u001b[0mpredictions_list\u001b[0m\u001b[0;34m]\u001b[0m\u001b[0;34m\u001b[0m\u001b[0;34m\u001b[0m\u001b[0m\n\u001b[0m\u001b[1;32m     23\u001b[0m         \u001b[0mprint\u001b[0m\u001b[0;34m(\u001b[0m\u001b[0mchs\u001b[0m\u001b[0;34m)\u001b[0m\u001b[0;34m\u001b[0m\u001b[0;34m\u001b[0m\u001b[0m\n\u001b[1;32m     24\u001b[0m         \u001b[0mfinal_texts\u001b[0m \u001b[0;34m=\u001b[0m \u001b[0mnp\u001b[0m\u001b[0;34m.\u001b[0m\u001b[0mcore\u001b[0m\u001b[0;34m.\u001b[0m\u001b[0mdefchararray\u001b[0m\u001b[0;34m.\u001b[0m\u001b[0madd\u001b[0m\u001b[0;34m(\u001b[0m\u001b[0mfinal_texts\u001b[0m\u001b[0;34m[\u001b[0m\u001b[0mcontin\u001b[0m\u001b[0;34m]\u001b[0m\u001b[0;34m,\u001b[0m\u001b[0mchs\u001b[0m\u001b[0;34m)\u001b[0m\u001b[0;34m\u001b[0m\u001b[0;34m\u001b[0m\u001b[0m\n",
      "\u001b[0;32m<ipython-input-103-f57d9f5052f4>\u001b[0m in \u001b[0;36msample_from_prob_vec\u001b[0;34m(pr)\u001b[0m\n\u001b[1;32m      1\u001b[0m \u001b[0;32mdef\u001b[0m \u001b[0msample_from_prob_vec\u001b[0m\u001b[0;34m(\u001b[0m\u001b[0mpr\u001b[0m\u001b[0;34m)\u001b[0m\u001b[0;34m:\u001b[0m\u001b[0;34m\u001b[0m\u001b[0;34m\u001b[0m\u001b[0m\n\u001b[0;32m----> 2\u001b[0;31m     \u001b[0mprob_thresh\u001b[0m \u001b[0;34m=\u001b[0m \u001b[0mnp\u001b[0m\u001b[0;34m.\u001b[0m\u001b[0mmax\u001b[0m\u001b[0;34m(\u001b[0m\u001b[0mpr\u001b[0m\u001b[0;34m,\u001b[0m\u001b[0;36m1\u001b[0m\u001b[0;34m)\u001b[0m \u001b[0;34m*\u001b[0m \u001b[0;36m0.1\u001b[0m\u001b[0;34m\u001b[0m\u001b[0;34m\u001b[0m\u001b[0m\n\u001b[0m\u001b[1;32m      3\u001b[0m     \u001b[0mpr\u001b[0m\u001b[0;34m[\u001b[0m\u001b[0mpr\u001b[0m \u001b[0;34m<\u001b[0m \u001b[0mprob_thresh\u001b[0m\u001b[0;34m]\u001b[0m\u001b[0;34m=\u001b[0m\u001b[0;36m0\u001b[0m\u001b[0;34m\u001b[0m\u001b[0;34m\u001b[0m\u001b[0m\n\u001b[1;32m      4\u001b[0m     \u001b[0mpr\u001b[0m \u001b[0;34m=\u001b[0m \u001b[0;34m(\u001b[0m\u001b[0mpr\u001b[0m\u001b[0;34m/\u001b[0m\u001b[0mpr\u001b[0m\u001b[0;34m.\u001b[0m\u001b[0msum\u001b[0m\u001b[0;34m(\u001b[0m\u001b[0maxis\u001b[0m\u001b[0;34m=\u001b[0m\u001b[0;36m1\u001b[0m\u001b[0;34m,\u001b[0m\u001b[0mkeepdims\u001b[0m\u001b[0;34m=\u001b[0m\u001b[0;36m1\u001b[0m\u001b[0;34m)\u001b[0m\u001b[0;34m)\u001b[0m\u001b[0;34m[\u001b[0m\u001b[0;36m0\u001b[0m\u001b[0;34m]\u001b[0m\u001b[0;34m\u001b[0m\u001b[0;34m\u001b[0m\u001b[0m\n\u001b[1;32m      5\u001b[0m     \u001b[0midxs\u001b[0m \u001b[0;34m=\u001b[0m \u001b[0mnp\u001b[0m\u001b[0;34m.\u001b[0m\u001b[0marange\u001b[0m\u001b[0;34m(\u001b[0m\u001b[0mlen\u001b[0m\u001b[0;34m(\u001b[0m\u001b[0mpr\u001b[0m\u001b[0;34m)\u001b[0m\u001b[0;34m)\u001b[0m\u001b[0;34m\u001b[0m\u001b[0;34m\u001b[0m\u001b[0m\n",
      "\u001b[0;32m<__array_function__ internals>\u001b[0m in \u001b[0;36mamax\u001b[0;34m(*args, **kwargs)\u001b[0m\n",
      "\u001b[0;32m~/opt/anaconda3/lib/python3.7/site-packages/numpy/core/fromnumeric.py\u001b[0m in \u001b[0;36mamax\u001b[0;34m(a, axis, out, keepdims, initial, where)\u001b[0m\n\u001b[1;32m   2753\u001b[0m     \"\"\"\n\u001b[1;32m   2754\u001b[0m     return _wrapreduction(a, np.maximum, 'max', axis, None, out,\n\u001b[0;32m-> 2755\u001b[0;31m                           keepdims=keepdims, initial=initial, where=where)\n\u001b[0m\u001b[1;32m   2756\u001b[0m \u001b[0;34m\u001b[0m\u001b[0m\n\u001b[1;32m   2757\u001b[0m \u001b[0;34m\u001b[0m\u001b[0m\n",
      "\u001b[0;32m~/opt/anaconda3/lib/python3.7/site-packages/numpy/core/fromnumeric.py\u001b[0m in \u001b[0;36m_wrapreduction\u001b[0;34m(obj, ufunc, method, axis, dtype, out, **kwargs)\u001b[0m\n\u001b[1;32m     84\u001b[0m                 \u001b[0;32mreturn\u001b[0m \u001b[0mreduction\u001b[0m\u001b[0;34m(\u001b[0m\u001b[0maxis\u001b[0m\u001b[0;34m=\u001b[0m\u001b[0maxis\u001b[0m\u001b[0;34m,\u001b[0m \u001b[0mout\u001b[0m\u001b[0;34m=\u001b[0m\u001b[0mout\u001b[0m\u001b[0;34m,\u001b[0m \u001b[0;34m**\u001b[0m\u001b[0mpasskwargs\u001b[0m\u001b[0;34m)\u001b[0m\u001b[0;34m\u001b[0m\u001b[0;34m\u001b[0m\u001b[0m\n\u001b[1;32m     85\u001b[0m \u001b[0;34m\u001b[0m\u001b[0m\n\u001b[0;32m---> 86\u001b[0;31m     \u001b[0;32mreturn\u001b[0m \u001b[0mufunc\u001b[0m\u001b[0;34m.\u001b[0m\u001b[0mreduce\u001b[0m\u001b[0;34m(\u001b[0m\u001b[0mobj\u001b[0m\u001b[0;34m,\u001b[0m \u001b[0maxis\u001b[0m\u001b[0;34m,\u001b[0m \u001b[0mdtype\u001b[0m\u001b[0;34m,\u001b[0m \u001b[0mout\u001b[0m\u001b[0;34m,\u001b[0m \u001b[0;34m**\u001b[0m\u001b[0mpasskwargs\u001b[0m\u001b[0;34m)\u001b[0m\u001b[0;34m\u001b[0m\u001b[0;34m\u001b[0m\u001b[0m\n\u001b[0m\u001b[1;32m     87\u001b[0m \u001b[0;34m\u001b[0m\u001b[0m\n\u001b[1;32m     88\u001b[0m \u001b[0;34m\u001b[0m\u001b[0m\n",
      "\u001b[0;31mAxisError\u001b[0m: axis 1 is out of bounds for array of dimension 1"
     ]
    }
   ],
   "source": [
    "final_texts = name_texts(texts)"
   ]
  },
  {
   "cell_type": "code",
   "execution_count": 105,
   "metadata": {},
   "outputs": [],
   "source": [
    "def name_text(text):\n",
    "    texts = [text]\n",
    "    #single \n",
    "    MAX_LENGTH = 128\n",
    "    # for each text, continue predicting until we reach max length or end token\n",
    "    final_texts = texts\n",
    "    while True:\n",
    "    \n",
    "        sequences = utils.texts_to_sequences(final_texts, char_to_int)\n",
    "        data = pad_sequences(sequences, maxlen=SEQUENCE_LENGTH)\n",
    "        predictions_list = NAME_MODEL.predict(data)\n",
    "        # print(predictions_list)\n",
    "        # sample\n",
    "        \n",
    "        \n",
    "        \n",
    "        ch = sample_from_prob_vec(predictions_list)\n",
    "        if len(sequences[0]) > MAX_LENGTH or ch == END_TOKEN:\n",
    "            break\n",
    "        print(int_to_char[ch])\n",
    "        final_texts[0]+=int_to_char[ch]\n",
    "        print(final_texts)\n",
    "    print(text)"
   ]
  },
  {
   "cell_type": "code",
   "execution_count": 107,
   "metadata": {},
   "outputs": [
    {
     "name": "stdout",
     "output_type": "stream",
     "text": [
      "1/1 [==============================] - 0s 16ms/step\n",
      "W\n",
      "['F5,H8,H10,H13,F15,A18,I4 W']\n",
      "1/1 [==============================] - 0s 16ms/step\n",
      "A\n",
      "['F5,H8,H10,H13,F15,A18,I4 WA']\n",
      "1/1 [==============================] - 0s 16ms/step\n",
      "R\n",
      "['F5,H8,H10,H13,F15,A18,I4 WAR']\n",
      "1/1 [==============================] - 0s 15ms/step\n",
      "M\n",
      "['F5,H8,H10,H13,F15,A18,I4 WARM']\n",
      "1/1 [==============================] - 0s 16ms/step\n",
      " \n",
      "['F5,H8,H10,H13,F15,A18,I4 WARM ']\n",
      "1/1 [==============================] - 0s 16ms/step\n",
      "U\n",
      "['F5,H8,H10,H13,F15,A18,I4 WARM U']\n",
      "1/1 [==============================] - 0s 16ms/step\n",
      "P\n",
      "['F5,H8,H10,H13,F15,A18,I4 WARM UP']\n",
      "1/1 [==============================] - 0s 16ms/step\n",
      " \n",
      "['F5,H8,H10,H13,F15,A18,I4 WARM UP ']\n",
      "1/1 [==============================] - 0s 15ms/step\n",
      "O\n",
      "['F5,H8,H10,H13,F15,A18,I4 WARM UP O']\n",
      "1/1 [==============================] - 0s 16ms/step\n",
      "F\n",
      "['F5,H8,H10,H13,F15,A18,I4 WARM UP OF']\n",
      "1/1 [==============================] - 0s 15ms/step\n",
      " \n",
      "['F5,H8,H10,H13,F15,A18,I4 WARM UP OF ']\n",
      "1/1 [==============================] - 0s 15ms/step\n",
      "T\n",
      "['F5,H8,H10,H13,F15,A18,I4 WARM UP OF T']\n",
      "1/1 [==============================] - 0s 15ms/step\n",
      "H\n",
      "['F5,H8,H10,H13,F15,A18,I4 WARM UP OF TH']\n",
      "1/1 [==============================] - 0s 15ms/step\n",
      "E\n",
      "['F5,H8,H10,H13,F15,A18,I4 WARM UP OF THE']\n",
      "1/1 [==============================] - 0s 15ms/step\n",
      " \n",
      "['F5,H8,H10,H13,F15,A18,I4 WARM UP OF THE ']\n",
      "1/1 [==============================] - 0s 16ms/step\n",
      "S\n",
      "['F5,H8,H10,H13,F15,A18,I4 WARM UP OF THE S']\n",
      "1/1 [==============================] - 0s 16ms/step\n",
      "T\n",
      "['F5,H8,H10,H13,F15,A18,I4 WARM UP OF THE ST']\n",
      "1/1 [==============================] - 0s 15ms/step\n",
      "O\n",
      "['F5,H8,H10,H13,F15,A18,I4 WARM UP OF THE STO']\n",
      "1/1 [==============================] - 0s 15ms/step\n",
      "U\n",
      "['F5,H8,H10,H13,F15,A18,I4 WARM UP OF THE STOU']\n",
      "1/1 [==============================] - 0s 15ms/step\n",
      "R\n",
      "['F5,H8,H10,H13,F15,A18,I4 WARM UP OF THE STOUR']\n",
      "1/1 [==============================] - 0s 15ms/step\n",
      "F5,H8,H10,H13,F15,A18,I4 \n"
     ]
    }
   ],
   "source": [
    "name_text(\"F5,H8,H10,H13,F15,A18,I4 \")"
   ]
  },
  {
   "cell_type": "code",
   "execution_count": 97,
   "metadata": {},
   "outputs": [],
   "source": [
    "\n",
    "\n",
    "# why do we learn the same thing...is it diff at all?\n",
    "def predict_char(text):\n",
    "    texts = [text]\n",
    "    #single \n",
    "    MAX_LENGTH = 128\n",
    "    # for each text, continue predicting until we reach max length or end token\n",
    "    final_texts = texts\n",
    "    sequences = utils.texts_to_sequences(final_texts, char_to_int)\n",
    "    data = pad_sequences(sequences, maxlen=SEQUENCE_LENGTH)\n",
    "    pr = NAME_MODEL.predict(data)\n",
    "    prob_thresh = np.max(pr,1) * 0.1\n",
    "    pr[pr < prob_thresh]=0\n",
    "    pr = (pr/pr.sum(axis=1,keepdims=1))[0]\n",
    "    idxs = np.arange(len(pr))\n",
    "    return np.random.choice(idxs, 1, p=pr)[0]\n",
    "    \n",
    "    #return predictions_list"
   ]
  },
  {
   "cell_type": "code",
   "execution_count": 98,
   "metadata": {},
   "outputs": [
    {
     "name": "stdout",
     "output_type": "stream",
     "text": [
      "1/1 [==============================] - 0s 16ms/step\n",
      "1/1 [==============================] - 0s 15ms/step\n"
     ]
    }
   ],
   "source": [
    "p1 = predict_char(\"F5,H8,H10,H13,F15,A18,I4 \")\n",
    "p2 = predict_char(\"A2,F8,F1,A24,I1 \")"
   ]
  },
  {
   "cell_type": "code",
   "execution_count": 99,
   "metadata": {},
   "outputs": [
    {
     "data": {
      "text/plain": [
       "17"
      ]
     },
     "execution_count": 99,
     "metadata": {},
     "output_type": "execute_result"
    }
   ],
   "source": [
    "p1"
   ]
  },
  {
   "cell_type": "code",
   "execution_count": 35,
   "metadata": {},
   "outputs": [
    {
     "name": "stdout",
     "output_type": "stream",
     "text": [
      "[0.12556466]\n",
      "[0.12516251]\n"
     ]
    },
    {
     "data": {
      "text/plain": [
       "'S'"
      ]
     },
     "execution_count": 35,
     "metadata": {},
     "output_type": "execute_result"
    }
   ],
   "source": [
    "print(np.max(p1,1))\n",
    "print(np.max(p2,1))\n",
    "\n",
    "int_to_char[np.argmax(p1,1).item()]"
   ]
  },
  {
   "cell_type": "code",
   "execution_count": 49,
   "metadata": {},
   "outputs": [
    {
     "name": "stdout",
     "output_type": "stream",
     "text": [
      "[[1.72423512e-07 1.76011341e-07 3.38816480e-03 3.71275768e-02\n",
      "  1.89682178e-03 3.10630479e-04 3.80029231e-02 4.38466319e-04\n",
      "  2.59014368e-02 4.95374389e-02 4.41518053e-02 3.66579667e-02\n",
      "  4.90288399e-02 6.88316077e-02 1.53136428e-03 1.03672140e-03\n",
      "  7.94554595e-04 6.83145896e-02 4.48931882e-04 2.91246525e-03\n",
      "  1.98012199e-02 1.57413092e-02 8.30415338e-02 2.19754465e-02\n",
      "  3.36246379e-02 2.25920841e-04 1.25564680e-01 2.81670373e-02\n",
      "  4.55288013e-04 4.36146930e-02 6.04902506e-02 1.02318591e-02\n",
      "  6.04689717e-02 1.16024725e-02 3.31582278e-02 1.41406571e-03\n",
      "  1.15157766e-02 4.60461341e-03 1.56281923e-03 2.42658216e-03]]\n"
     ]
    }
   ],
   "source": [
    "p3=p1/p1.sum(axis=1,keepdims=1)\n",
    "print(p3)"
   ]
  },
  {
   "cell_type": "code",
   "execution_count": 55,
   "metadata": {},
   "outputs": [],
   "source": [
    "p3[p3<0.01] = 0"
   ]
  },
  {
   "cell_type": "code",
   "execution_count": 57,
   "metadata": {},
   "outputs": [],
   "source": [
    "p3 = p3/p3.sum(axis=1,keepdims=1)"
   ]
  },
  {
   "cell_type": "code",
   "execution_count": 58,
   "metadata": {},
   "outputs": [
    {
     "data": {
      "text/plain": [
       "array([[0.        , 0.        , 0.        , 0.03801904, 0.        ,\n",
       "        0.        , 0.0389154 , 0.        , 0.02652335, 0.05072687,\n",
       "        0.04521192, 0.03753815, 0.05020606, 0.0704843 , 0.        ,\n",
       "        0.        , 0.        , 0.06995487, 0.        , 0.        ,\n",
       "        0.02027666, 0.01611927, 0.08503542, 0.02250309, 0.03443199,\n",
       "        0.        , 0.12857959, 0.02884335, 0.        , 0.04466191,\n",
       "        0.06194267, 0.01047753, 0.06192088, 0.01188106, 0.03395438,\n",
       "        0.        , 0.01179228, 0.        , 0.        , 0.        ]],\n",
       "      dtype=float32)"
      ]
     },
     "execution_count": 58,
     "metadata": {},
     "output_type": "execute_result"
    }
   ],
   "source": [
    "p3"
   ]
  },
  {
   "cell_type": "code",
   "execution_count": null,
   "metadata": {},
   "outputs": [],
   "source": []
  }
 ],
 "metadata": {
  "kernelspec": {
   "display_name": "Python 3",
   "language": "python",
   "name": "python3"
  },
  "language_info": {
   "codemirror_mode": {
    "name": "ipython",
    "version": 3
   },
   "file_extension": ".py",
   "mimetype": "text/x-python",
   "name": "python",
   "nbconvert_exporter": "python",
   "pygments_lexer": "ipython3",
   "version": "3.7.4"
  }
 },
 "nbformat": 4,
 "nbformat_minor": 2
}
