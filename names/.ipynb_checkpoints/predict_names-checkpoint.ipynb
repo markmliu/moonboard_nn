{
 "cells": [
  {
   "cell_type": "code",
   "execution_count": null,
   "metadata": {},
   "outputs": [],
   "source": [
    "import os\n",
    "import pickle\n",
    "import numpy as np\n",
    "import tensorflow as tf\n",
    "import math \n",
    "import re\n",
    "import operator\n",
    "import time\n",
    "import json\n",
    "import utils\n",
    "\n",
    "from tensorflow.keras import datasets, layers, models\n",
    "import matplotlib.pyplot as plt"
   ]
  },
  {
   "cell_type": "code",
   "execution_count": 10,
   "metadata": {},
   "outputs": [],
   "source": [
    "# load the trained model\n",
    "MODEL_PATH = 'moonboard_names_model_128'\n",
    "NAME_MODEL = models.load_model(MODEL_PATH+'/model.h5')"
   ]
  },
  {
   "cell_type": "code",
   "execution_count": 14,
   "metadata": {},
   "outputs": [],
   "source": [
    "\n",
    "params = json.load(open(MODEL_PATH + '/params.json'))\n",
    "SEQUENCE_LENGTH = 128\n",
    "char_to_int = params['char_to_int']\n",
    "int_to_char = params['int_to_char']\n",
    "\n",
    "#labels = {v: k for k, v in params['labels_index'].items()}"
   ]
  },
  {
   "cell_type": "code",
   "execution_count": 16,
   "metadata": {},
   "outputs": [
    {
     "data": {
      "text/plain": [
       "['?',\n",
       " ',',\n",
       " '1',\n",
       " 'E',\n",
       " ' ',\n",
       " '8',\n",
       " 'G',\n",
       " '5',\n",
       " 'I',\n",
       " 'F',\n",
       " 'D',\n",
       " 'H',\n",
       " 'A',\n",
       " 'C',\n",
       " '4',\n",
       " '3',\n",
       " '6',\n",
       " 'B',\n",
       " '0',\n",
       " '2',\n",
       " 'O',\n",
       " 'K',\n",
       " 'T',\n",
       " 'J',\n",
       " 'R',\n",
       " '9',\n",
       " 'S',\n",
       " 'N',\n",
       " '7',\n",
       " 'L',\n",
       " 'M',\n",
       " 'U',\n",
       " 'P',\n",
       " 'Y',\n",
       " 'W',\n",
       " '|',\n",
       " 'V',\n",
       " 'Z',\n",
       " 'X',\n",
       " 'Q']"
      ]
     },
     "execution_count": 16,
     "metadata": {},
     "output_type": "execute_result"
    }
   ],
   "source": []
  },
  {
   "cell_type": "code",
   "execution_count": 17,
   "metadata": {},
   "outputs": [],
   "source": [
    "problem_start = 'A5,B8,D12,F14,I18'"
   ]
  },
  {
   "cell_type": "code",
   "execution_count": null,
   "metadata": {},
   "outputs": [],
   "source": [
    "utils."
   ]
  }
 ],
 "metadata": {
  "kernelspec": {
   "display_name": "Python 3",
   "language": "python",
   "name": "python3"
  },
  "language_info": {
   "codemirror_mode": {
    "name": "ipython",
    "version": 3
   },
   "file_extension": ".py",
   "mimetype": "text/x-python",
   "name": "python",
   "nbconvert_exporter": "python",
   "pygments_lexer": "ipython3",
   "version": "3.7.4"
  }
 },
 "nbformat": 4,
 "nbformat_minor": 2
}
