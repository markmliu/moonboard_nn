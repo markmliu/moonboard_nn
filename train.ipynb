{
 "cells": [
  {
   "cell_type": "code",
   "execution_count": 1,
   "metadata": {},
   "outputs": [],
   "source": [
    "# let's see how good we can get something if we just use a simple cnn on the raw moonboard data\n",
    "import os\n",
    "import pickle\n",
    "import numpy as np\n",
    "import tensorflow as tf\n",
    "import math \n",
    "\n",
    "\n",
    "from tensorflow.keras import datasets, layers, models\n",
    "import matplotlib.pyplot as plt"
   ]
  },
  {
   "cell_type": "code",
   "execution_count": 2,
   "metadata": {},
   "outputs": [
    {
     "name": "stdout",
     "output_type": "stream",
     "text": [
      "/Users/markliu/moonboard\n"
     ]
    }
   ],
   "source": [
    "cwd = os.getcwd()\n",
    "print(cwd)\n",
    "parent_wd = cwd.replace('/model', '')\n",
    "raw_data_path = os.path.join(parent_wd, 'raw_data/moonGen_scrape_2016')"
   ]
  },
  {
   "cell_type": "code",
   "execution_count": 3,
   "metadata": {},
   "outputs": [
    {
     "data": {
      "text/plain": [
       "'/Users/markliu/moonboard/raw_data/moonGen_scrape_2016'"
      ]
     },
     "execution_count": 3,
     "metadata": {},
     "output_type": "execute_result"
    }
   ],
   "source": [
    "raw_data_path"
   ]
  },
  {
   "cell_type": "code",
   "execution_count": 4,
   "metadata": {},
   "outputs": [],
   "source": [
    "with open(raw_data_path, 'rb') as f:\n",
    "    raw_data = pickle.load(f)"
   ]
  },
  {
   "cell_type": "code",
   "execution_count": 6,
   "metadata": {},
   "outputs": [
    {
     "name": "stdout",
     "output_type": "stream",
     "text": [
      "{'problem_name': 'GULAG', 'info': ['micklevin', '1 climber has repeated this problem', '7A', 'Feet follow hands', ''], 'url': 'https://moonboard.com/Problems/View/367885/gulag', 'num_empty': 1, 'num_stars': 2, 'moves': [{'Id': 2119166, 'Description': 'A5', 'IsStart': True, 'IsEnd': False}, {'Id': 2119167, 'Description': 'B8', 'IsStart': False, 'IsEnd': False}, {'Id': 2119168, 'Description': 'D12', 'IsStart': False, 'IsEnd': False}, {'Id': 2119169, 'Description': 'F14', 'IsStart': False, 'IsEnd': False}, {'Id': 2119170, 'Description': 'I18', 'IsStart': False, 'IsEnd': True}], 'grade': '7A', 'UserGrade': None, 'isBenchmark': False, 'repeats': 1, 'ProblemType': None, 'IsMaster': False, 'setter': {'Id': '05f91964-f58c-4a49-af50-abec02f71300', 'Nickname': 'micklevin', 'Firstname': 'Mick', 'Lastname': 'Levin', 'City': 'Halifax', 'Country': 'Canada', 'ProfileImageUrl': '/Content/Account/Users/Profile/05f91964-f58c-4a49-af50-abec02f71300.jpg?637231996827206508', 'CanShareData': True}}\n"
     ]
    }
   ],
   "source": [
    "print(list(raw_data.items())[3][1])"
   ]
  },
  {
   "cell_type": "code",
   "execution_count": 7,
   "metadata": {},
   "outputs": [
    {
     "name": "stdout",
     "output_type": "stream",
     "text": [
      "failed to add grade for problem  356367\n",
      "failed to add grade for problem  353028\n",
      "failed to add grade for problem  348825\n",
      "failed to add grade for problem  333117\n",
      "failed to add grade for problem  332272\n",
      "failed to add grade for problem  314544\n",
      "failed to add grade for problem  314454\n",
      "failed to add grade for problem  312470\n",
      "failed to add grade for problem  311460\n",
      "failed to add grade for problem  310781\n",
      "failed to add grade for problem  309769\n",
      "failed to add grade for problem  309545\n",
      "failed to add grade for problem  309079\n",
      "failed to add grade for problem  287806\n",
      "failed to add grade for problem  287597\n",
      "failed to add grade for problem  280514\n",
      "failed to add grade for problem  280420\n",
      "failed to add grade for problem  264916\n",
      "failed to add grade for problem  263758\n",
      "failed to add grade for problem  256115\n",
      "failed to add grade for problem  242702\n",
      "failed to add grade for problem  233728\n",
      "failed to add grade for problem  222189\n",
      "failed to add grade for problem  207982\n",
      "failed to add grade for problem  206103\n",
      "failed to add grade for problem  204447\n",
      "failed to add grade for problem  197168\n",
      "failed to add grade for problem  166051\n",
      "failed to add grade for problem  115780\n",
      "failed to add grade for problem  61494\n",
      "{'8B+', '8B', '6C+', '7A', '7B', '7B+', '8A', '6C', '8A+', '7C', '7A+', '7C+', '6B', '6B+'}\n"
     ]
    }
   ],
   "source": [
    "all_grades = set()\n",
    "\n",
    "for problem in list(raw_data.items()):\n",
    "    try:\n",
    "        all_grades.add(problem[1]['grade'])\n",
    "    except:\n",
    "        print(\"failed to add grade for problem \", problem[0])\n",
    "        \n",
    "print(all_grades)"
   ]
  },
  {
   "cell_type": "code",
   "execution_count": 8,
   "metadata": {},
   "outputs": [],
   "source": [
    "def get_grade_map():\n",
    "    \"\"\"\n",
    "    Defines a mapping of Fontainebleau grades to integer values\n",
    "    \"\"\"\n",
    "    grade_map = {\n",
    "        '6B': 0,  # V4\n",
    "        '6B+': 1, # V4\n",
    "        '6C': 2,  # V5\n",
    "        '6C+': 3, # V5\n",
    "        '7A': 4,  # V6\n",
    "        '7A+': 5, # V7\n",
    "        '7B': 6,  # V8\n",
    "        '7B+': 7, # V8\n",
    "        '7C': 8,  # V9\n",
    "        '7C+': 9, # V10\n",
    "        '8A': 10,  # V11\n",
    "        '8A+': 11, # V12\n",
    "        '8B': 12,  # V13\n",
    "        '8B+': 13, # V14\n",
    "    }\n",
    "    return grade_map\n",
    "\n",
    "def get_reverse_grade_map():\n",
    "    \"\"\"\n",
    "    Map scores back to font grades - just use array\n",
    "    \"\"\"\n",
    "    return ['6B', '6B+', '6C', '6C+', '7A', '7A+', '7B', '7B+', '7C', '7C+', '8A', '8A+', '8B', '8B+']\n",
    "\n",
    "\n",
    "\n",
    "def get_v_grade_map():\n",
    "    \"\"\"\n",
    "    Defines a mapping of v grades to integer values\n",
    "    \"\"\"\n",
    "    grade_map = {\n",
    "        '6B': 0,  # V4\n",
    "        '6B+': 0, # V4\n",
    "        '6C': 1,  # V5\n",
    "        '6C+': 1, # V5\n",
    "        '7A': 2,  # V6\n",
    "        '7A+': 3, # V7\n",
    "        '7B': 4,  # V8\n",
    "        '7B+': 4, # V8\n",
    "        '7C': 5,  # V9\n",
    "        '7C+': 6, # V10\n",
    "        '8A': 7,  # V11\n",
    "        '8A+': 8, # V12\n",
    "        '8B': 9,  # V13\n",
    "        '8B+': 10, # V14\n",
    "    }\n",
    "    return grade_map\n",
    "\n",
    "def coordinateToString(coordinate):\n",
    "    \"\"\" convert (9.0 ,4.0) to \"J5\" \"\"\"\n",
    "    alphabetList = [\"A\", \"B\", \"C\", \"D\", \"E\", \"F\", \"G\", \"H\", \"I\", \"J\", \"K\"]\n",
    "    return str(alphabetList[int(coordinate[0])]) + str(int(coordinate[1]) + 1)\n",
    "\n",
    "def stringToCoordinate(coordinate_string):\n",
    "    \"\"\" convert \"J5\" to (9.0,4.0) \"\"\"\n",
    "    x = ord(coordinate_string[0])-ord('A')\n",
    "    y = int(coordinate_string[1:])-1\n",
    "    return (x,y)"
   ]
  },
  {
   "cell_type": "code",
   "execution_count": 9,
   "metadata": {},
   "outputs": [
    {
     "name": "stdout",
     "output_type": "stream",
     "text": [
      "(9, 4)\n",
      "J5\n"
     ]
    }
   ],
   "source": [
    "print(stringToCoordinate(\"J5\"))\n",
    "print(coordinateToString((9,4)))"
   ]
  },
  {
   "cell_type": "code",
   "execution_count": null,
   "metadata": {},
   "outputs": [],
   "source": [
    "print(list(raw_data.items())[2][1])"
   ]
  },
  {
   "cell_type": "code",
   "execution_count": 10,
   "metadata": {},
   "outputs": [],
   "source": [
    "def convert_problem_to_input(holds):\n",
    "    # each problem is on 11x18 board, encode as (x,y) coordinates, zero-indexed, starting from bottom left corner\n",
    "    inp = np.zeros((11,18))\n",
    "    for hold in holds:\n",
    "        hold_string = hold['Description']\n",
    "        inp[stringToCoordinate(hold_string)] = 1\n",
    "    return inp\n",
    "\n",
    "# debugging - back to sequence of moves\n",
    "def convert_input_to_problem(inp):\n",
    "    # each problem is on 11x18 board\n",
    "    holds = []\n",
    "    nonzero_idxs = np.argwhere(inp!= 0)\n",
    "    for idx in nonzero_idxs:\n",
    "        holds.append(coordinateToString(idx))\n",
    "    return holds\n",
    "\n",
    "def convert_problem_to_debug(inp):\n",
    "    # we want to encode the problem in a matrix where if you print it, it actually looks like the moonboard\n",
    "    # this looks something like:\n",
    "    # debug[17-y]\n",
    "    debug = np.zeros((18,11))\n",
    "    for hold in holds:\n",
    "        hold_string = hold['Description']\n",
    "        x,y = stringToCoordinate(hold_string)\n",
    "        debug[17-y][x] = 1\n",
    "    return debug"
   ]
  },
  {
   "cell_type": "code",
   "execution_count": 11,
   "metadata": {},
   "outputs": [
    {
     "name": "stdout",
     "output_type": "stream",
     "text": [
      "[[0. 0. 0. 0. 0. 0. 0. 0. 0. 0. 1.]\n",
      " [0. 0. 0. 0. 0. 0. 0. 0. 0. 0. 0.]\n",
      " [0. 0. 0. 0. 0. 0. 0. 0. 0. 0. 0.]\n",
      " [0. 0. 0. 0. 0. 0. 1. 0. 0. 0. 0.]\n",
      " [0. 0. 0. 0. 0. 0. 0. 0. 0. 0. 0.]\n",
      " [0. 0. 0. 0. 0. 0. 0. 0. 0. 0. 0.]\n",
      " [0. 0. 0. 0. 0. 0. 0. 0. 0. 0. 1.]\n",
      " [0. 0. 0. 0. 0. 0. 0. 0. 0. 0. 0.]\n",
      " [0. 0. 0. 0. 0. 0. 1. 0. 0. 0. 0.]\n",
      " [0. 0. 0. 0. 0. 0. 0. 0. 0. 0. 0.]\n",
      " [0. 0. 0. 0. 0. 0. 0. 1. 0. 0. 0.]\n",
      " [0. 0. 0. 0. 0. 0. 0. 0. 0. 0. 0.]\n",
      " [0. 0. 0. 0. 0. 0. 0. 0. 0. 0. 0.]\n",
      " [0. 0. 0. 0. 0. 0. 0. 0. 0. 0. 0.]\n",
      " [0. 0. 0. 0. 0. 0. 1. 0. 0. 0. 0.]\n",
      " [0. 0. 0. 0. 0. 0. 0. 0. 0. 0. 0.]\n",
      " [0. 0. 0. 0. 0. 0. 0. 0. 0. 0. 0.]\n",
      " [0. 0. 0. 0. 0. 0. 0. 0. 0. 0. 0.]]\n",
      "['G4', 'G10', 'G15', 'H8', 'K12', 'K18']\n"
     ]
    }
   ],
   "source": [
    "holds = list(raw_data.items())[2][1]['moves']\n",
    "sample_input = convert_problem_to_input(holds)\n",
    "sample_holds = convert_input_to_problem(sample_input)\n",
    "print(convert_problem_to_debug(holds))\n",
    "print(sample_holds)"
   ]
  },
  {
   "cell_type": "code",
   "execution_count": 12,
   "metadata": {},
   "outputs": [],
   "source": [
    "def build_inputs_and_outputs(raw_data, limit=None, print_progress=False):\n",
    "    count = 0\n",
    "    grade_map = get_grade_map()\n",
    "    xs = []\n",
    "    ys = []\n",
    "    ids = []\n",
    "    for problem_desc in raw_data.items():\n",
    "        if limit != None and count >= limit:\n",
    "            break\n",
    "        if print_progress:\n",
    "            if count % 100 == 0:\n",
    "                print(\"working on item \", count, \" out of \", len(raw_data.items()))\n",
    "        problem = problem_desc[1]\n",
    "        try:\n",
    "            x = convert_problem_to_input(problem['moves'])\n",
    "            y = grade_map[problem['grade']]\n",
    "            xs.append(x)\n",
    "            ys.append(y)\n",
    "            ids.append(problem['problem_name'])\n",
    "        except Exception as e:\n",
    "            print(\"failed to convert problem \", problem_desc[0])\n",
    "            print(e)\n",
    "        count += 1\n",
    "    return xs,ys,ids"
   ]
  },
  {
   "cell_type": "code",
   "execution_count": 13,
   "metadata": {},
   "outputs": [
    {
     "name": "stdout",
     "output_type": "stream",
     "text": [
      "working on item  0  out of  30673\n",
      "working on item  100  out of  30673\n",
      "working on item  200  out of  30673\n",
      "working on item  300  out of  30673\n",
      "working on item  400  out of  30673\n",
      "working on item  500  out of  30673\n",
      "working on item  600  out of  30673\n",
      "working on item  700  out of  30673\n",
      "working on item  800  out of  30673\n",
      "working on item  900  out of  30673\n",
      "working on item  1000  out of  30673\n",
      "working on item  1100  out of  30673\n",
      "working on item  1200  out of  30673\n",
      "working on item  1300  out of  30673\n",
      "working on item  1400  out of  30673\n",
      "working on item  1500  out of  30673\n",
      "working on item  1600  out of  30673\n",
      "working on item  1700  out of  30673\n",
      "working on item  1800  out of  30673\n",
      "working on item  1900  out of  30673\n",
      "working on item  2000  out of  30673\n",
      "working on item  2100  out of  30673\n",
      "working on item  2200  out of  30673\n",
      "working on item  2300  out of  30673\n",
      "working on item  2400  out of  30673\n",
      "working on item  2500  out of  30673\n",
      "working on item  2600  out of  30673\n",
      "working on item  2700  out of  30673\n",
      "working on item  2800  out of  30673\n",
      "working on item  2900  out of  30673\n",
      "working on item  3000  out of  30673\n",
      "working on item  3100  out of  30673\n",
      "working on item  3200  out of  30673\n",
      "working on item  3300  out of  30673\n",
      "working on item  3400  out of  30673\n",
      "working on item  3500  out of  30673\n",
      "working on item  3600  out of  30673\n",
      "failed to convert problem  356367\n",
      "'moves'\n",
      "working on item  3700  out of  30673\n",
      "working on item  3800  out of  30673\n",
      "working on item  3900  out of  30673\n",
      "working on item  4000  out of  30673\n",
      "working on item  4100  out of  30673\n",
      "working on item  4200  out of  30673\n",
      "working on item  4300  out of  30673\n",
      "working on item  4400  out of  30673\n",
      "working on item  4500  out of  30673\n",
      "working on item  4600  out of  30673\n",
      "working on item  4700  out of  30673\n",
      "working on item  4800  out of  30673\n",
      "working on item  4900  out of  30673\n",
      "failed to convert problem  353028\n",
      "'moves'\n",
      "working on item  5000  out of  30673\n",
      "working on item  5100  out of  30673\n",
      "working on item  5200  out of  30673\n",
      "working on item  5300  out of  30673\n",
      "working on item  5400  out of  30673\n",
      "working on item  5500  out of  30673\n",
      "working on item  5600  out of  30673\n",
      "working on item  5700  out of  30673\n",
      "working on item  5800  out of  30673\n",
      "working on item  5900  out of  30673\n",
      "working on item  6000  out of  30673\n",
      "working on item  6100  out of  30673\n",
      "working on item  6200  out of  30673\n",
      "working on item  6300  out of  30673\n",
      "working on item  6400  out of  30673\n",
      "failed to convert problem  348825\n",
      "'moves'\n",
      "working on item  6500  out of  30673\n",
      "working on item  6600  out of  30673\n",
      "working on item  6700  out of  30673\n",
      "working on item  6800  out of  30673\n",
      "working on item  6900  out of  30673\n",
      "working on item  7000  out of  30673\n",
      "working on item  7100  out of  30673\n",
      "working on item  7200  out of  30673\n",
      "working on item  7300  out of  30673\n",
      "working on item  7400  out of  30673\n",
      "working on item  7500  out of  30673\n",
      "working on item  7600  out of  30673\n",
      "working on item  7700  out of  30673\n",
      "working on item  7800  out of  30673\n",
      "working on item  7900  out of  30673\n",
      "working on item  8000  out of  30673\n",
      "working on item  8100  out of  30673\n",
      "working on item  8200  out of  30673\n",
      "working on item  8300  out of  30673\n",
      "working on item  8400  out of  30673\n",
      "working on item  8500  out of  30673\n",
      "working on item  8600  out of  30673\n",
      "working on item  8700  out of  30673\n",
      "working on item  8800  out of  30673\n",
      "working on item  8900  out of  30673\n",
      "working on item  9000  out of  30673\n",
      "working on item  9100  out of  30673\n",
      "working on item  9200  out of  30673\n",
      "working on item  9300  out of  30673\n",
      "working on item  9400  out of  30673\n",
      "working on item  9500  out of  30673\n",
      "working on item  9600  out of  30673\n",
      "working on item  9700  out of  30673\n",
      "working on item  9800  out of  30673\n",
      "working on item  9900  out of  30673\n",
      "working on item  10000  out of  30673\n",
      "working on item  10100  out of  30673\n",
      "working on item  10200  out of  30673\n",
      "working on item  10300  out of  30673\n",
      "working on item  10400  out of  30673\n",
      "working on item  10500  out of  30673\n",
      "working on item  10600  out of  30673\n",
      "working on item  10700  out of  30673\n",
      "working on item  10800  out of  30673\n",
      "working on item  10900  out of  30673\n",
      "working on item  11000  out of  30673\n",
      "working on item  11100  out of  30673\n",
      "working on item  11200  out of  30673\n",
      "working on item  11300  out of  30673\n",
      "working on item  11400  out of  30673\n",
      "working on item  11500  out of  30673\n",
      "working on item  11600  out of  30673\n",
      "working on item  11700  out of  30673\n",
      "working on item  11800  out of  30673\n",
      "failed to convert problem  333117\n",
      "'moves'\n",
      "working on item  11900  out of  30673\n",
      "working on item  12000  out of  30673\n",
      "working on item  12100  out of  30673\n",
      "failed to convert problem  332272\n",
      "'moves'\n",
      "working on item  12200  out of  30673\n",
      "working on item  12300  out of  30673\n",
      "working on item  12400  out of  30673\n",
      "working on item  12500  out of  30673\n",
      "working on item  12600  out of  30673\n",
      "working on item  12700  out of  30673\n",
      "working on item  12800  out of  30673\n",
      "working on item  12900  out of  30673\n",
      "working on item  13000  out of  30673\n",
      "working on item  13100  out of  30673\n",
      "working on item  13200  out of  30673\n",
      "working on item  13300  out of  30673\n",
      "working on item  13400  out of  30673\n",
      "working on item  13500  out of  30673\n",
      "working on item  13600  out of  30673\n",
      "working on item  13700  out of  30673\n",
      "working on item  13800  out of  30673\n",
      "working on item  13900  out of  30673\n",
      "working on item  14000  out of  30673\n",
      "working on item  14100  out of  30673\n",
      "working on item  14200  out of  30673\n",
      "working on item  14300  out of  30673\n",
      "working on item  14400  out of  30673\n",
      "working on item  14500  out of  30673\n",
      "working on item  14600  out of  30673\n",
      "working on item  14700  out of  30673\n",
      "working on item  14800  out of  30673\n",
      "working on item  14900  out of  30673\n",
      "working on item  15000  out of  30673\n",
      "working on item  15100  out of  30673\n",
      "working on item  15200  out of  30673\n",
      "working on item  15300  out of  30673\n",
      "working on item  15400  out of  30673\n",
      "working on item  15500  out of  30673\n",
      "working on item  15600  out of  30673\n",
      "working on item  15700  out of  30673\n",
      "working on item  15800  out of  30673\n",
      "working on item  15900  out of  30673\n",
      "working on item  16000  out of  30673\n",
      "failed to convert problem  314544\n",
      "'moves'\n",
      "failed to convert problem  314454\n",
      "'moves'\n",
      "working on item  16100  out of  30673\n",
      "working on item  16200  out of  30673\n",
      "working on item  16300  out of  30673\n",
      "working on item  16400  out of  30673\n",
      "working on item  16500  out of  30673\n",
      "working on item  16600  out of  30673\n",
      "working on item  16700  out of  30673\n",
      "working on item  16800  out of  30673\n",
      "working on item  16900  out of  30673\n",
      "working on item  17000  out of  30673\n",
      "failed to convert problem  312470\n",
      "'moves'\n",
      "working on item  17100  out of  30673\n",
      "working on item  17200  out of  30673\n",
      "working on item  17300  out of  30673\n",
      "working on item  17400  out of  30673\n",
      "working on item  17500  out of  30673\n",
      "failed to convert problem  311460\n",
      "'moves'\n",
      "working on item  17600  out of  30673\n",
      "working on item  17700  out of  30673\n",
      "working on item  17800  out of  30673\n",
      "working on item  17900  out of  30673\n",
      "failed to convert problem  310781\n",
      "'moves'\n",
      "working on item  18000  out of  30673\n",
      "working on item  18100  out of  30673\n",
      "working on item  18200  out of  30673\n",
      "working on item  18300  out of  30673\n",
      "working on item  18400  out of  30673\n",
      "failed to convert problem  309769\n",
      "'moves'\n",
      "working on item  18500  out of  30673\n",
      "working on item  18600  out of  30673\n",
      "failed to convert problem  309545\n",
      "'moves'\n",
      "working on item  18700  out of  30673\n",
      "working on item  18800  out of  30673\n",
      "failed to convert problem  309079\n",
      "'moves'\n",
      "working on item  18900  out of  30673\n",
      "working on item  19000  out of  30673\n",
      "working on item  19100  out of  30673\n",
      "working on item  19200  out of  30673\n",
      "working on item  19300  out of  30673\n",
      "working on item  19400  out of  30673\n",
      "working on item  19500  out of  30673\n",
      "working on item  19600  out of  30673\n",
      "working on item  19700  out of  30673\n",
      "working on item  19800  out of  30673\n",
      "working on item  19900  out of  30673\n",
      "working on item  20000  out of  30673\n",
      "working on item  20100  out of  30673\n",
      "working on item  20200  out of  30673\n",
      "working on item  20300  out of  30673\n",
      "working on item  20400  out of  30673\n",
      "working on item  20500  out of  30673\n",
      "working on item  20600  out of  30673\n",
      "working on item  20700  out of  30673\n",
      "working on item  20800  out of  30673\n",
      "working on item  20900  out of  30673\n",
      "working on item  21000  out of  30673\n",
      "working on item  21100  out of  30673\n",
      "working on item  21200  out of  30673\n",
      "working on item  21300  out of  30673\n",
      "working on item  21400  out of  30673\n",
      "working on item  21500  out of  30673\n",
      "working on item  21600  out of  30673\n",
      "working on item  21700  out of  30673\n",
      "working on item  21800  out of  30673\n",
      "working on item  21900  out of  30673\n",
      "working on item  22000  out of  30673\n",
      "working on item  22100  out of  30673\n",
      "failed to convert problem  287806\n",
      "'moves'\n",
      "working on item  22200  out of  30673\n",
      "failed to convert problem  287597\n",
      "'moves'\n",
      "working on item  22300  out of  30673\n",
      "working on item  22400  out of  30673\n",
      "failed to convert problem  280514\n",
      "'moves'\n",
      "failed to convert problem  280420\n",
      "'moves'\n",
      "working on item  22500  out of  30673\n",
      "working on item  22600  out of  30673\n",
      "working on item  22700  out of  30673\n",
      "working on item  22800  out of  30673\n",
      "working on item  22900  out of  30673\n",
      "failed to convert problem  264916\n",
      "'moves'\n",
      "failed to convert problem  263758\n",
      "'moves'\n",
      "working on item  23000  out of  30673\n",
      "working on item  23100  out of  30673\n",
      "working on item  23200  out of  30673\n",
      "working on item  23300  out of  30673\n",
      "failed to convert problem  256115\n",
      "'moves'\n",
      "working on item  23400  out of  30673\n",
      "working on item  23500  out of  30673\n",
      "working on item  23600  out of  30673\n",
      "working on item  23700  out of  30673\n",
      "working on item  23800  out of  30673\n",
      "failed to convert problem  242702\n",
      "'moves'\n",
      "working on item  23900  out of  30673\n",
      "working on item  24000  out of  30673\n",
      "failed to convert problem  233728\n",
      "'moves'\n",
      "working on item  24100  out of  30673\n",
      "working on item  24200  out of  30673\n",
      "working on item  24300  out of  30673\n",
      "working on item  24400  out of  30673\n",
      "failed to convert problem  222189\n",
      "'moves'\n",
      "working on item  24500  out of  30673\n",
      "working on item  24600  out of  30673\n",
      "working on item  24700  out of  30673\n",
      "working on item  24800  out of  30673\n",
      "working on item  24900  out of  30673\n",
      "failed to convert problem  207982\n",
      "'moves'\n",
      "failed to convert problem  206103\n",
      "'moves'\n",
      "working on item  25000  out of  30673\n",
      "failed to convert problem  204447\n",
      "'moves'\n",
      "working on item  25100  out of  30673\n",
      "working on item  25200  out of  30673\n",
      "failed to convert problem  197168\n",
      "'moves'\n",
      "working on item  25300  out of  30673\n",
      "working on item  25400  out of  30673\n",
      "working on item  25500  out of  30673\n",
      "working on item  25600  out of  30673\n",
      "working on item  25700  out of  30673\n",
      "working on item  25800  out of  30673\n",
      "working on item  25900  out of  30673\n",
      "working on item  26000  out of  30673\n",
      "working on item  26100  out of  30673\n",
      "working on item  26200  out of  30673\n",
      "failed to convert problem  166051\n",
      "'moves'\n",
      "working on item  26300  out of  30673\n",
      "working on item  26400  out of  30673\n",
      "working on item  26500  out of  30673\n",
      "working on item  26600  out of  30673\n",
      "working on item  26700  out of  30673\n",
      "working on item  26800  out of  30673\n",
      "working on item  26900  out of  30673\n",
      "working on item  27000  out of  30673\n",
      "working on item  27100  out of  30673\n",
      "working on item  27200  out of  30673\n",
      "working on item  27300  out of  30673\n",
      "working on item  27400  out of  30673\n",
      "working on item  27500  out of  30673\n",
      "working on item  27600  out of  30673\n",
      "failed to convert problem  115780\n",
      "'moves'\n",
      "working on item  27700  out of  30673\n",
      "working on item  27800  out of  30673\n",
      "working on item  27900  out of  30673\n",
      "working on item  28000  out of  30673\n",
      "working on item  28100  out of  30673\n",
      "working on item  28200  out of  30673\n",
      "working on item  28300  out of  30673\n",
      "working on item  28400  out of  30673\n",
      "working on item  28500  out of  30673\n",
      "working on item  28600  out of  30673\n",
      "working on item  28700  out of  30673\n",
      "working on item  28800  out of  30673\n",
      "working on item  28900  out of  30673\n",
      "working on item  29000  out of  30673\n",
      "failed to convert problem  61494\n",
      "'moves'\n",
      "working on item  29100  out of  30673\n",
      "working on item  29200  out of  30673\n",
      "working on item  29300  out of  30673\n",
      "working on item  29400  out of  30673\n",
      "working on item  29500  out of  30673\n",
      "working on item  29600  out of  30673\n",
      "working on item  29700  out of  30673\n",
      "working on item  29800  out of  30673\n",
      "working on item  29900  out of  30673\n",
      "working on item  30000  out of  30673\n",
      "working on item  30100  out of  30673\n",
      "working on item  30200  out of  30673\n",
      "working on item  30300  out of  30673\n",
      "failed to convert problem  23360\n",
      "index 41 is out of bounds for axis 0 with size 11\n",
      "working on item  30400  out of  30673\n",
      "working on item  30500  out of  30673\n",
      "working on item  30600  out of  30673\n"
     ]
    }
   ],
   "source": [
    "xs,ys,ids = build_inputs_and_outputs(raw_data, print_progress=True)"
   ]
  },
  {
   "cell_type": "code",
   "execution_count": null,
   "metadata": {},
   "outputs": [],
   "source": [
    "print(len(xs))"
   ]
  },
  {
   "cell_type": "code",
   "execution_count": 14,
   "metadata": {},
   "outputs": [],
   "source": [
    "# stack them so they are single numpy arrays\n",
    "xs = np.stack(xs, axis=0)\n",
    "ys = np.stack(ys, axis=0)\n"
   ]
  },
  {
   "cell_type": "code",
   "execution_count": 15,
   "metadata": {},
   "outputs": [],
   "source": [
    "# split into training/test/validation sets\n",
    "indices = np.random.permutation(xs.shape[0])\n",
    "# print(indices)\n",
    "\n",
    "n_val = 3000\n",
    "n_test = 3000\n",
    "\n",
    "val_idxs = indices[0:n_val]\n",
    "test_idxs = indices[n_val:n_val+n_test]\n",
    "train_idxs = indices[n_val+n_test:]\n",
    "\n",
    "x_train, x_test, x_val = xs[train_idxs,:], xs[test_idxs,:], xs[val_idxs,:]\n",
    "y_train, y_test, y_val = ys[train_idxs], ys[test_idxs], ys[val_idxs]\n",
    "\n"
   ]
  },
  {
   "cell_type": "code",
   "execution_count": 16,
   "metadata": {},
   "outputs": [],
   "source": [
    "ids = np.array(ids)\n",
    "id_train, id_test, id_val = ids[train_idxs], ids[test_idxs], ids[val_idxs]\n",
    "#ds[train_idxs]"
   ]
  },
  {
   "cell_type": "markdown",
   "metadata": {},
   "source": [
    "# Model definition"
   ]
  },
  {
   "cell_type": "code",
   "execution_count": 17,
   "metadata": {},
   "outputs": [],
   "source": [
    "\n",
    "\n",
    "# use a pretty basic one from https://www.tensorflow.org/tutorials/images/cnn\n",
    "# except swap out the last layer for a single output since we are doing regression\n",
    "# and change the loss function from a categorical one\n",
    "tf.keras.backend.clear_session()\n",
    "\n",
    "model = models.Sequential()\n",
    "model.add(layers.Conv2D(32, (3, 3), activation='relu', input_shape=(11, 18, 1)))\n",
    "model.add(layers.MaxPooling2D((2, 2)))\n",
    "model.add(layers.Conv2D(64, (3, 3), activation='relu'))\n",
    "model.add(layers.Flatten())\n",
    "model.add(layers.Dense(64, activation='relu'))\n",
    "model.add(layers.Dense(1))\n",
    "\n",
    "model.compile(optimizer='adam',\n",
    "              loss=tf.keras.losses.MeanSquaredError(),\n",
    "              metrics=['mean_squared_error'])\n",
    "\n",
    "# save initial weights so we can reload from here each time\n",
    "Wsave = model.get_weights()\n"
   ]
  },
  {
   "cell_type": "code",
   "execution_count": 18,
   "metadata": {},
   "outputs": [
    {
     "name": "stdout",
     "output_type": "stream",
     "text": [
      "Model: \"sequential\"\n",
      "_________________________________________________________________\n",
      " Layer (type)                Output Shape              Param #   \n",
      "=================================================================\n",
      " conv2d (Conv2D)             (None, 9, 16, 32)         320       \n",
      "                                                                 \n",
      " max_pooling2d (MaxPooling2D  (None, 4, 8, 32)         0         \n",
      " )                                                               \n",
      "                                                                 \n",
      " conv2d_1 (Conv2D)           (None, 2, 6, 64)          18496     \n",
      "                                                                 \n",
      " flatten (Flatten)           (None, 768)               0         \n",
      "                                                                 \n",
      " dense (Dense)               (None, 64)                49216     \n",
      "                                                                 \n",
      " dense_1 (Dense)             (None, 1)                 65        \n",
      "                                                                 \n",
      "=================================================================\n",
      "Total params: 68,097\n",
      "Trainable params: 68,097\n",
      "Non-trainable params: 0\n",
      "_________________________________________________________________\n"
     ]
    }
   ],
   "source": [
    "model.summary()"
   ]
  },
  {
   "cell_type": "code",
   "execution_count": 19,
   "metadata": {},
   "outputs": [
    {
     "name": "stdout",
     "output_type": "stream",
     "text": [
      "Epoch 1/10\n",
      "771/771 [==============================] - 3s 3ms/step - loss: 3.1172 - mean_squared_error: 3.1172 - val_loss: 2.7571 - val_mean_squared_error: 2.7571\n",
      "Epoch 2/10\n",
      "771/771 [==============================] - 2s 3ms/step - loss: 2.2320 - mean_squared_error: 2.2320 - val_loss: 2.1396 - val_mean_squared_error: 2.1396\n",
      "Epoch 3/10\n",
      "771/771 [==============================] - 2s 3ms/step - loss: 2.1079 - mean_squared_error: 2.1079 - val_loss: 2.0807 - val_mean_squared_error: 2.0807\n",
      "Epoch 4/10\n",
      "771/771 [==============================] - 2s 3ms/step - loss: 2.0243 - mean_squared_error: 2.0243 - val_loss: 2.0829 - val_mean_squared_error: 2.0829\n",
      "Epoch 5/10\n",
      "771/771 [==============================] - 2s 3ms/step - loss: 1.9701 - mean_squared_error: 1.9701 - val_loss: 2.1836 - val_mean_squared_error: 2.1836\n",
      "Epoch 6/10\n",
      "771/771 [==============================] - 2s 3ms/step - loss: 1.9154 - mean_squared_error: 1.9154 - val_loss: 2.3905 - val_mean_squared_error: 2.3905\n",
      "Epoch 7/10\n",
      "771/771 [==============================] - 2s 3ms/step - loss: 1.9402 - mean_squared_error: 1.9402 - val_loss: 2.1492 - val_mean_squared_error: 2.1492\n",
      "Epoch 8/10\n",
      "771/771 [==============================] - 2s 3ms/step - loss: 1.8273 - mean_squared_error: 1.8273 - val_loss: 2.0416 - val_mean_squared_error: 2.0416\n",
      "Epoch 9/10\n",
      "771/771 [==============================] - 2s 3ms/step - loss: 1.7692 - mean_squared_error: 1.7692 - val_loss: 2.1542 - val_mean_squared_error: 2.1542\n",
      "Epoch 10/10\n",
      "771/771 [==============================] - 2s 3ms/step - loss: 1.7172 - mean_squared_error: 1.7172 - val_loss: 2.0708 - val_mean_squared_error: 2.0708\n"
     ]
    }
   ],
   "source": [
    "if Wsave:\n",
    "    model.set_weights(Wsave)\n",
    "\n",
    "history = model.fit(x_train, y_train, epochs=10, \n",
    "                    validation_data=(x_val, y_val))"
   ]
  },
  {
   "cell_type": "code",
   "execution_count": 20,
   "metadata": {},
   "outputs": [
    {
     "name": "stdout",
     "output_type": "stream",
     "text": [
      "94/94 [==============================] - 0s 1ms/step\n"
     ]
    },
    {
     "data": {
      "image/png": "[encoded data removed]",
      "text/plain": [
       "<Figure size 432x288 with 1 Axes>"
      ]
     },
     "metadata": {
      "needs_background": "light"
     },
     "output_type": "display_data"
    }
   ],
   "source": [
    "plt.plot(history.history['mean_squared_error'], label='mean_squared_error')\n",
    "plt.plot(history.history['val_mean_squared_error'], label='val_mean_squared_error')\n",
    "plt.xlabel('Epoch')\n",
    "plt.ylabel('MSE')\n",
    "plt.ylim([0.0, 2.5])\n",
    "plt.legend(loc='lower right')\n",
    "\n",
    "#test_loss = model.evaluate(x_test,  y_test, verbose=2)\n",
    "y_predict = model.predict(x_test)"
   ]
  },
  {
   "cell_type": "code",
   "execution_count": 21,
   "metadata": {},
   "outputs": [
    {
     "name": "stdout",
     "output_type": "stream",
     "text": [
      "[[0. 0. 0. 0. 0. 0. 0. 0. 0. 0. 1.]\n",
      " [0. 0. 0. 0. 0. 0. 0. 0. 0. 0. 0.]\n",
      " [0. 0. 0. 0. 0. 0. 0. 0. 0. 0. 0.]\n",
      " [0. 0. 0. 0. 0. 0. 1. 0. 0. 0. 0.]\n",
      " [0. 0. 0. 0. 0. 0. 0. 0. 0. 0. 0.]\n",
      " [0. 0. 0. 0. 0. 0. 0. 0. 0. 0. 0.]\n",
      " [0. 0. 0. 0. 0. 0. 0. 0. 0. 0. 1.]\n",
      " [0. 0. 0. 0. 0. 0. 0. 0. 0. 0. 0.]\n",
      " [0. 0. 0. 0. 0. 0. 1. 0. 0. 0. 0.]\n",
      " [0. 0. 0. 0. 0. 0. 0. 0. 0. 0. 0.]\n",
      " [0. 0. 0. 0. 0. 0. 0. 1. 0. 0. 0.]\n",
      " [0. 0. 0. 0. 0. 0. 0. 0. 0. 0. 0.]\n",
      " [0. 0. 0. 0. 0. 0. 0. 0. 0. 0. 0.]\n",
      " [0. 0. 0. 0. 0. 0. 0. 0. 0. 0. 0.]\n",
      " [0. 0. 0. 0. 0. 0. 1. 0. 0. 0. 0.]\n",
      " [0. 0. 0. 0. 0. 0. 0. 0. 0. 0. 0.]\n",
      " [0. 0. 0. 0. 0. 0. 0. 0. 0. 0. 0.]\n",
      " [0. 0. 0. 0. 0. 0. 0. 0. 0. 0. 0.]]\n",
      "3\n",
      "[1.7167133]\n",
      "TALL POPPY\n"
     ]
    }
   ],
   "source": [
    "# let's pick a random one and check\n",
    "idx = 125\n",
    "print(convert_problem_to_debug(convert_input_to_problem(x_test[idx])))\n",
    "print(y_test[idx])\n",
    "print(y_predict[idx])\n",
    "print(id_test[idx])"
   ]
  },
  {
   "cell_type": "code",
   "execution_count": 22,
   "metadata": {},
   "outputs": [],
   "source": [
    "\n",
    "def predict_single_problem_grade(model, problem):\n",
    "    return model.predict(problem).item()\n",
    "\n",
    "def predicted_grade_string(model, problem):\n",
    "    pred_grade_float = predict_single_problem_grade(model, problem)\n",
    "    upper_bd = math.ceil(pred_grade_float)\n",
    "    lower_bd = math.floor(pred_grade_float)\n",
    "    reverse_grade_map = get_reverse_grade_map()\n",
    "    return reverse_grade_map[lower_bd]+\"-\"+reverse_grade_map[upper_bd]\n",
    "\n",
    "# eval with grade classification\n",
    "def compute_accuracy(y_true, y_predict):\n",
    "    \"\"\"\n",
    "    Compute the accuracy of the model\n",
    "    - complete_accurate: the model output match the expected output exactly\n",
    "    - roughly_accurate: the model output is only different from the expected output by less than or equal to 1 grade.\n",
    "    \"\"\"\n",
    "    complete_accurate = np.sum(y_true == y_predict)/len(y_true)\n",
    "    roughly_accurate = np.sum(np.abs(y_true - y_predict) <= 1)/len(y_true)\n",
    "    return (complete_accurate, roughly_accurate)"
   ]
  },
  {
   "cell_type": "code",
   "execution_count": 50,
   "metadata": {},
   "outputs": [
    {
     "data": {
      "text/plain": [
       "(0.3546666666666667, 0.7236666666666667)"
      ]
     },
     "execution_count": 50,
     "metadata": {},
     "output_type": "execute_result"
    }
   ],
   "source": [
    "y_int_predict = [int(y) for y in y_predict]\n",
    "y_int_predict\n",
    "compute_accuracy(y_test, y_int_predict)"
   ]
  },
  {
   "cell_type": "code",
   "execution_count": 26,
   "metadata": {},
   "outputs": [
    {
     "name": "stdout",
     "output_type": "stream",
     "text": [
      "1/1 [==============================] - 0s 19ms/step\n",
      "7B-7B+\n",
      "actual grade: 7B\n"
     ]
    }
   ],
   "source": [
    "idx = 125\n",
    "print(predicted_grade_string(model, np.expand_dims(x_train[idx],0)))\n",
    "print(\"actual grade:\", get_reverse_grade_map()[y_train[idx]])"
   ]
  },
  {
   "cell_type": "code",
   "execution_count": 27,
   "metadata": {},
   "outputs": [
    {
     "name": "stdout",
     "output_type": "stream",
     "text": [
      "1/1 [==============================] - 0s 16ms/step\n"
     ]
    },
    {
     "data": {
      "text/plain": [
       "array([[6.2430053]], dtype=float32)"
      ]
     },
     "execution_count": 27,
     "metadata": {},
     "output_type": "execute_result"
    }
   ],
   "source": [
    "model.predict(np.expand_dims(x_train[125],axis=0))\n"
   ]
  },
  {
   "cell_type": "code",
   "execution_count": 30,
   "metadata": {},
   "outputs": [],
   "source": [
    "model.save(\"website/moonboard_model.h5\")"
   ]
  },
  {
   "cell_type": "code",
   "execution_count": null,
   "metadata": {},
   "outputs": [],
   "source": []
  }
 ],
 "metadata": {
  "kernelspec": {
   "display_name": "Python 3",
   "language": "python",
   "name": "python3"
  },
  "language_info": {
   "codemirror_mode": {
    "name": "ipython",
    "version": 3
   },
   "file_extension": ".py",
   "mimetype": "text/x-python",
   "name": "python",
   "nbconvert_exporter": "python",
   "pygments_lexer": "ipython3",
   "version": "3.7.4"
  }
 },
 "nbformat": 4,
 "nbformat_minor": 2
}
